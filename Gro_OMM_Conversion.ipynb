{
 "cells": [
  {
   "cell_type": "code",
   "execution_count": 2,
   "metadata": {},
   "outputs": [],
   "source": [
    "#OpenMM imports\n",
    "from openmm import *\n",
    "from openmm.app import *\n",
    "from openmm.unit import *\n",
    "\n",
    "#NumPy\n",
    "import numpy as np\n",
    "\n",
    "#Simulation output\n",
    "from sys import stdout"
   ]
  },
  {
   "cell_type": "markdown",
   "metadata": {},
   "source": [
    "# GROMACS to OpenMM Conversion\n",
    "\n",
    "Here we attempt to build a molecular simulation with OpenMM using GROMACS coordinate and topology files. These files can easily be loaded with the GromacsGroFile() and GromacsTopFile() functions. The rest of the simulation is build as would normally be done with OpenMM. The parameter settings, such as temperature and cutoff, that would normally be given by a .mdp file in GROMACS are now specified in the script lines below. \n",
    "\n",
    "The top file often refers to other files that should be used in simulation, such as position restraints or forcefields. The IncludeDir= option specifies the path on which to look for these files. "
   ]
  },
  {
   "cell_type": "code",
   "execution_count": 6,
   "metadata": {},
   "outputs": [],
   "source": [
    "#Load Gro and Top files\n",
    "gro = GromacsGroFile('Data/Input/System/glySPCE300K.gro')\n",
    "top = GromacsTopFile('Data/Input/System/glycine.top', periodicBoxVectors=gro.getPeriodicBoxVectors(), includeDir='/usr/local/gromacs/share/gromacs/top')\n",
    "\n",
    "#Create a system out of the topology by specifying bonds and interactions\n",
    "system = top.createSystem(nonbondedMethod=PME, nonbondedCutoff=1*nanometer, constraints=HBonds)\n",
    "\n",
    "#Specify integrator to use for advancing the system\n",
    "integrator = LangevinMiddleIntegrator(300*kelvin, 1/picosecond, 0.004*picoseconds)\n",
    "\n",
    "#Combine topology, system adn integrator to initialize the system\n",
    "simulation = Simulation(top.topology, system, integrator)\n",
    "simulation.context.setPositions(gro.positions)\n",
    "\n",
    "#Do local energy minimization for stability\n",
    "simulation.minimizeEnergy()\n",
    "\n",
    "#Define output measures\n",
    "simulation.reporters.append(PDBReporter('Gro_OMM_Conversion.pdb', 1000))\n",
    "simulation.reporters.append(StateDataReporter(stdout, 1000, step=True, potentialEnergy=True, temperature=True))\n"
   ]
  },
  {
   "cell_type": "code",
   "execution_count": 5,
   "metadata": {},
   "outputs": [
    {
     "name": "stdout",
     "output_type": "stream",
     "text": [
      "#\"Step\",\"Potential Energy (kJ/mole)\",\"Temperature (K)\"\n",
      "1000,-76678.90208732928,289.76429251299294\n",
      "2000,-75034.57407670742,294.83888217748495\n",
      "3000,-74849.41201710749,295.9826900839883\n",
      "4000,-75037.88464133014,298.222227372416\n",
      "5000,-75078.38719000929,301.4259834578858\n",
      "6000,-74901.40688792804,296.73965105983996\n",
      "7000,-75484.3311681605,301.8301967578973\n",
      "8000,-75273.53733990058,301.28522615126633\n",
      "9000,-75319.9441177422,302.80378615530634\n",
      "10000,-75425.04129296589,301.76095056693663\n"
     ]
    }
   ],
   "source": [
    "#Run the simulation for a number of steps\n",
    "simulation.step(10000)"
   ]
  },
  {
   "cell_type": "code",
   "execution_count": null,
   "metadata": {},
   "outputs": [],
   "source": [
    "import numpy as np\n",
    "import simtk.openmm as mm\n",
    "from simtk.openmm import app\n",
    "\n",
    "# Load the system and integrator\n",
    "pdb = app.PDBFile('system.pdb')\n",
    "forcefield = app.ForceField('system.xml')\n",
    "system = forcefield.createSystem(pdb.topology, nonbondedMethod=app.PME,\n",
    "                                 nonbondedCutoff=1.0*unit.nanometers, constraints=app.HBonds)\n",
    "integrator = mm.LangevinIntegrator(300*unit.kelvin, 1.0/unit.picoseconds, 2.0*unit.femtoseconds)\n",
    "\n",
    "# Define the pressure reporter\n",
    "pressure_file = open('pressure.txt', 'w')\n",
    "pressure_file.write('# Time (ps)\\tPressure (bar)\\n')\n",
    "pressure_reporter = app.StateDataReporter(pressure_file, 1000, step=True, time=True,\n",
    "                                           totalPressure=True, separator='\\t')\n",
    "\n",
    "# Create the simulation context\n",
    "platform = mm.Platform.getPlatformByName('CPU')\n",
    "simulation = app.Simulation(pdb.topology, system, integrator, platform)\n",
    "simulation.context.setPositions(pdb.positions)\n",
    "\n",
    "# Add the pressure reporter to the simulation\n",
    "simulation.reporters.append(pressure_reporter)\n",
    "\n",
    "# Run the simulation\n",
    "simulation.step(10000)  # Run for 10,000 steps\n"
   ]
  }
 ],
 "metadata": {
  "kernelspec": {
   "display_name": "Python 3",
   "language": "python",
   "name": "python3"
  },
  "language_info": {
   "codemirror_mode": {
    "name": "ipython",
    "version": 3
   },
   "file_extension": ".py",
   "mimetype": "text/x-python",
   "name": "python",
   "nbconvert_exporter": "python",
   "pygments_lexer": "ipython3",
   "version": "3.9.18"
  }
 },
 "nbformat": 4,
 "nbformat_minor": 2
}
